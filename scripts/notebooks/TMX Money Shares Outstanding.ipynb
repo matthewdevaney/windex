{
 "cells": [
  {
   "cell_type": "code",
   "execution_count": 1,
   "metadata": {},
   "outputs": [],
   "source": [
    "import requests\n",
    "from bs4 import BeautifulSoup\n",
    "import pandas as pd"
   ]
  },
  {
   "cell_type": "code",
   "execution_count": 2,
   "metadata": {},
   "outputs": [],
   "source": [
    "html_doc = requests.get('https://mobile.tmxmoney.com/quote/?symbol=NFI').text\n",
    "soup = BeautifulSoup(html_doc,'html.parser')\n",
    "stock_quote = soup.find('table', {'id':'detailedquote'}).text.strip()\n"
   ]
  },
  {
   "cell_type": "code",
   "execution_count": 3,
   "metadata": {},
   "outputs": [],
   "source": [
    "shares_outstanding_str = stock_quote.split(' ')[22]\n",
    "shares_oustanding_list = [x for x in shares_outstanding_str if x.isalnum()]\n",
    "shares_outstanding = ''.join(shares_oustanding_list)"
   ]
  },
  {
   "cell_type": "code",
   "execution_count": 4,
   "metadata": {},
   "outputs": [
    {
     "name": "stdout",
     "output_type": "stream",
     "text": [
      "62385916\n"
     ]
    }
   ],
   "source": [
    "print(shares_outstanding)"
   ]
  }
 ],
 "metadata": {
  "kernelspec": {
   "display_name": "Python 3",
   "language": "python",
   "name": "python3"
  },
  "language_info": {
   "codemirror_mode": {
    "name": "ipython",
    "version": 3
   },
   "file_extension": ".py",
   "mimetype": "text/x-python",
   "name": "python",
   "nbconvert_exporter": "python",
   "pygments_lexer": "ipython3",
   "version": "3.6.4"
  }
 },
 "nbformat": 4,
 "nbformat_minor": 2
}
